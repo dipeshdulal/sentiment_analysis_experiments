{
 "cells": [
  {
   "cell_type": "code",
   "execution_count": 1,
   "metadata": {},
   "outputs": [],
   "source": [
    "articles = open('article.txt', 'r')"
   ]
  },
  {
   "cell_type": "code",
   "execution_count": 2,
   "metadata": {},
   "outputs": [],
   "source": [
    "d = articles.readlines()"
   ]
  },
  {
   "cell_type": "code",
   "execution_count": 3,
   "metadata": {},
   "outputs": [],
   "source": [
    "import numpy as np\n",
    "dictionary = []\n",
    "for _ in d:\n",
    "    a = _.split()\n",
    "    if a == '|':\n",
    "        continue\n",
    "    for __ in a:\n",
    "        dictionary.append(__)"
   ]
  },
  {
   "cell_type": "code",
   "execution_count": 4,
   "metadata": {},
   "outputs": [],
   "source": [
    "dictionary = np.unique(dictionary)\n",
    "int_to_dict = dictionary"
   ]
  },
  {
   "cell_type": "code",
   "execution_count": 5,
   "metadata": {},
   "outputs": [],
   "source": [
    "dict_to_int = {}\n",
    "for _ in range(dictionary.size):\n",
    "    dict_to_int[str(dictionary[_])] = [_]"
   ]
  },
  {
   "cell_type": "code",
   "execution_count": 6,
   "metadata": {},
   "outputs": [
    {
     "data": {
      "text/plain": [
       "37936"
      ]
     },
     "execution_count": 6,
     "metadata": {},
     "output_type": "execute_result"
    }
   ],
   "source": [
    "dictionary.size"
   ]
  },
  {
   "cell_type": "code",
   "execution_count": 7,
   "metadata": {},
   "outputs": [],
   "source": [
    "WINDOW_SIZE = 2\n",
    "cluster_array = []\n",
    "for line in d:\n",
    "    a = line.split()\n",
    "    for a_index, word in enumerate(a):\n",
    "        _ = a[ max( a_index-WINDOW_SIZE, 0 ) : min( a_index + WINDOW_SIZE, len(a)+1) ]\n",
    "        for __ in _:\n",
    "            if __ != word:\n",
    "                cluster_array.append([word, __])"
   ]
  },
  {
   "cell_type": "code",
   "execution_count": 8,
   "metadata": {},
   "outputs": [
    {
     "data": {
      "text/plain": [
       "778418"
      ]
     },
     "execution_count": 8,
     "metadata": {},
     "output_type": "execute_result"
    }
   ],
   "source": [
    "len(cluster_array)"
   ]
  },
  {
   "cell_type": "code",
   "execution_count": 57,
   "metadata": {},
   "outputs": [],
   "source": [
    "def make_one_hot(index, vocab_size):\n",
    "    ret_array = np.zeros((vocab_size,1))\n",
    "    ret_array[index] = 1\n",
    "    return ret_array"
   ]
  },
  {
   "cell_type": "code",
   "execution_count": 58,
   "metadata": {},
   "outputs": [
    {
     "data": {
      "text/plain": [
       "array([[1.],\n",
       "       [0.],\n",
       "       [0.],\n",
       "       ...,\n",
       "       [0.],\n",
       "       [0.],\n",
       "       [0.]])"
      ]
     },
     "execution_count": 58,
     "metadata": {},
     "output_type": "execute_result"
    }
   ],
   "source": [
    "make_one_hot(dict_to_int['अ'], dictionary.size)"
   ]
  },
  {
   "cell_type": "code",
   "execution_count": 59,
   "metadata": {},
   "outputs": [],
   "source": [
    "# make x and y_label array\n",
    "def create_xy_vector(array):\n",
    "    x = make_one_hot(dict_to_int[array[0]], dictionary.size)\n",
    "    y = make_one_hot(dict_to_int[array[1]], dictionary.size)\n",
    "    return x,y"
   ]
  },
  {
   "cell_type": "code",
   "execution_count": 60,
   "metadata": {},
   "outputs": [
    {
     "name": "stdout",
     "output_type": "stream",
     "text": [
      "(array([[0.],\n",
      "       [0.],\n",
      "       [0.],\n",
      "       ...,\n",
      "       [0.],\n",
      "       [0.],\n",
      "       [0.]]), array([[0.],\n",
      "       [0.],\n",
      "       [0.],\n",
      "       ...,\n",
      "       [0.],\n",
      "       [0.],\n",
      "       [0.]]))\n"
     ]
    }
   ],
   "source": [
    "print(create_xy_vector(cluster_array[100]))"
   ]
  },
  {
   "cell_type": "code",
   "execution_count": 61,
   "metadata": {},
   "outputs": [],
   "source": [
    "import tensorflow as tf"
   ]
  },
  {
   "cell_type": "code",
   "execution_count": 62,
   "metadata": {},
   "outputs": [],
   "source": [
    "x_input = []\n",
    "y_label =  []\n",
    "for _ in range(100):\n",
    "    (x, y) = create_xy_vector(cluster_array[_])\n",
    "    x_input.append(x)\n",
    "    y_label.append(y)"
   ]
  },
  {
   "cell_type": "code",
   "execution_count": 63,
   "metadata": {},
   "outputs": [],
   "source": [
    "\n",
    "# print(x_input.size)\n",
    "# x_input = np.asarray(x_input)\n",
    "# y_label = np.asarray(y_label)"
   ]
  },
  {
   "cell_type": "code",
   "execution_count": 64,
   "metadata": {},
   "outputs": [
    {
     "data": {
      "text/plain": [
       "37936"
      ]
     },
     "execution_count": 64,
     "metadata": {},
     "output_type": "execute_result"
    }
   ],
   "source": [
    "# print(x_input[0])\n",
    "dictionary.size"
   ]
  },
  {
   "cell_type": "code",
   "execution_count": 65,
   "metadata": {},
   "outputs": [],
   "source": [
    "vocab_size = dictionary.size\n",
    "x_ = tf.placeholder(tf.float32, shape=(vocab_size, None))\n",
    "y_ = tf.placeholder(tf.float32, shape=(vocab_size, None))"
   ]
  },
  {
   "cell_type": "code",
   "execution_count": 66,
   "metadata": {},
   "outputs": [],
   "source": [
    "EMBEDDING_DIM = 20\n",
    "w1 = tf.Variable(tf.random_normal([ vocab_size, EMBEDDING_DIM ]))\n",
    "b1 = tf.Variable(tf.random_normal( [ EMBEDDING_DIM ]))\n",
    "\n",
    "hidden_representation = tf.add(tf.matmul(x_, w1), b1)\n",
    "\n",
    "w2 = tf.Variable(tf.random_normal( [EMBEDDING_DIM, vocab_size ] ))\n",
    "b2 = tf.Variable(tf.random_normal( [vocab_size] ))\n",
    "\n",
    "prediction = tf.add(tf.matmul(hidden_representation, w2), b2)"
   ]
  },
  {
   "cell_type": "code",
   "execution_count": 67,
   "metadata": {},
   "outputs": [],
   "source": [
    "sess = tf.Session()\n",
    "init = tf.global_variables_initializer()\n",
    "sess.run(init)"
   ]
  },
  {
   "cell_type": "code",
   "execution_count": 68,
   "metadata": {},
   "outputs": [],
   "source": [
    "# loss function \n",
    "cross_entropy = tf.reduce_mean(-tf.reduce_sum(y_ * tf.log(prediction), reduction_indices=[1] ))\n",
    "gradient_descent = tf.train.GradientDescentOptimizer(0.1).minimize(cross_entropy)"
   ]
  },
  {
   "cell_type": "code",
   "execution_count": null,
   "metadata": {},
   "outputs": [],
   "source": [
    "for i in range(1000):\n",
    "    (x, y) = create_xy_vector(cluster_array[i])\n",
    "    sess.run(gradient_descent, feed_dict={ x_ : x, y_: y})\n",
    "    print('loss is : ', sess.run(cross_entropy, feed_dict={x_: x, y_: y }))"
   ]
  }
 ],
 "metadata": {
  "kernelspec": {
   "display_name": "Python 3",
   "language": "python",
   "name": "python3"
  },
  "language_info": {
   "codemirror_mode": {
    "name": "ipython",
    "version": 3
   },
   "file_extension": ".py",
   "mimetype": "text/x-python",
   "name": "python",
   "nbconvert_exporter": "python",
   "pygments_lexer": "ipython3",
   "version": "3.6.5"
  }
 },
 "nbformat": 4,
 "nbformat_minor": 2
}

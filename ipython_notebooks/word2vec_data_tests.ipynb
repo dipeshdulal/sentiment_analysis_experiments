{
 "cells": [
  {
   "cell_type": "code",
   "execution_count": 2,
   "metadata": {},
   "outputs": [],
   "source": [
    "from gensim.models import KeyedVectors"
   ]
  },
  {
   "cell_type": "code",
   "execution_count": 3,
   "metadata": {},
   "outputs": [],
   "source": [
    "word_vectors = KeyedVectors.load('vectors.txt')"
   ]
  },
  {
   "cell_type": "code",
   "execution_count": 5,
   "metadata": {
    "scrolled": true
   },
   "outputs": [
    {
     "data": {
      "text/plain": [
       "[('ट्रम्पलाई', 0.9682868719100952),\n",
       " ('ट्रम्पका', 0.9663889408111572),\n",
       " ('भ्लादिमिर', 0.9655430316925049),\n",
       " ('डोनल्ड', 0.9653440117835999),\n",
       " ('फ्रान्सेली', 0.9653072357177734),\n",
       " ('ट्रम्प', 0.9640002846717834),\n",
       " ('रुसी', 0.9630926847457886),\n",
       " ('ट्रम्पसँग', 0.9598166942596436),\n",
       " ('चेतावनीउत्तर', 0.9573613405227661),\n",
       " ('सघाएको', 0.955659806728363)]"
      ]
     },
     "execution_count": 5,
     "metadata": {},
     "output_type": "execute_result"
    }
   ],
   "source": [
    "word_vectors.most_similar(positive='डोनाल्ड')"
   ]
  },
  {
   "cell_type": "code",
   "execution_count": 6,
   "metadata": {},
   "outputs": [
    {
     "data": {
      "text/plain": [
       "[('हाइड्रोजन', 0.9697252511978149),\n",
       " ('टूर्स', 0.9685347080230713),\n",
       " ('यङ्ग', 0.9648297429084778),\n",
       " ('रुस', 0.9617899656295776),\n",
       " ('मिलेको', 0.9612488150596619),\n",
       " ('बाह्य', 0.9596976041793823),\n",
       " ('दस्तावेजहरु', 0.958879828453064),\n",
       " ('अमेरिकालाई', 0.9572336673736572),\n",
       " ('अहिलेनै', 0.9572058916091919),\n",
       " ('रणनीतिक', 0.9563843011856079)]"
      ]
     },
     "execution_count": 6,
     "metadata": {},
     "output_type": "execute_result"
    }
   ],
   "source": [
    "word_vectors.most_similar(positive='संकट')"
   ]
  },
  {
   "cell_type": "code",
   "execution_count": 7,
   "metadata": {},
   "outputs": [
    {
     "data": {
      "text/plain": [
       "[('चीन', 0.9417108297348022),\n",
       " ('कम्युनिष्ट', 0.9044229388237),\n",
       " ('भ्रमणका', 0.8914266228675842),\n",
       " ('फ्रान्स', 0.8902051448822021),\n",
       " ('प्रतिबद्धताका', 0.8896855115890503),\n",
       " ('मित्र', 0.8858485817909241),\n",
       " ('छिमेकी', 0.8794988989830017),\n",
       " ('विशेषतासहित', 0.8773661851882935),\n",
       " ('नेपालको', 0.8762229681015015),\n",
       " ('इरान', 0.8746554851531982)]"
      ]
     },
     "execution_count": 7,
     "metadata": {},
     "output_type": "execute_result"
    }
   ],
   "source": [
    "word_vectors.most_similar(positive='भारत') "
   ]
  }
 ],
 "metadata": {
  "kernelspec": {
   "display_name": "Python 3",
   "language": "python",
   "name": "python3"
  },
  "language_info": {
   "codemirror_mode": {
    "name": "ipython",
    "version": 3
   },
   "file_extension": ".py",
   "mimetype": "text/x-python",
   "name": "python",
   "nbconvert_exporter": "python",
   "pygments_lexer": "ipython3",
   "version": "3.6.5"
  }
 },
 "nbformat": 4,
 "nbformat_minor": 2
}
